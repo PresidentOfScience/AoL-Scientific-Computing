{
 "cells": [
  {
   "cell_type": "code",
   "execution_count": 5,
   "metadata": {},
   "outputs": [],
   "source": [
    "# Import library yang diperlukan\n",
    "import numpy as np"
   ]
  },
  {
   "cell_type": "code",
   "execution_count": 6,
   "metadata": {},
   "outputs": [
    {
     "name": "stdout",
     "output_type": "stream",
     "text": [
      "Harga aproksimasi deret Taylor untuk sin(pi/2) = 0.9248322292886504\n",
      "Harga aproksimasi deret Taylor untuk cos(pi/2) = 0.019968957764878226\n",
      "Harga aproksimasi sin(pi/2).cos(pi/2) = 0.018467935726263235\n",
      "Error = 0.018467935726263172\n"
     ]
    }
   ],
   "source": [
    "# sin(x) dan cos(x) dihitung terpisah dari deret Taylor masing-masing\n",
    "\n",
    "# Inisialisasi nilai x yang akan disubstitusi, dan inisialisasi y = 0\n",
    "x = np.pi/2\n",
    "y = 0\n",
    "\n",
    "# Inisialisasi pengiterasi suku deret ke-n mulai dari 0\n",
    "n = 0\n",
    "\n",
    "# Lakukan iterasi selama orde deret lebih kecil atau sama dengan 4\n",
    "while(2*n+1 <= 4):\n",
    "    # Nilai y ditambah sesuai rumus deret Taylor sin(x) pada n tertentu dan masukkan x = pi/2\n",
    "    y = y + ((-1)**n*x**(2*n+1))/(np.math.factorial(2*n+1))\n",
    "    # Tambahkan pengiterasi n untuk melanjutkan proses loop\n",
    "    n += 1\n",
    "\n",
    "# Masukkan nilai y akhir iterasi ke dalam variabel taylorSin, lalu keluarkan hasilnya\n",
    "taylorSin = y\n",
    "print(f\"Harga aproksimasi deret Taylor untuk sin(pi/2) = {taylorSin}\")\n",
    "\n",
    "# Inisialisasi ulang nilai y = 0 dan pengiterasi n = 0\n",
    "y = 0\n",
    "n = 0\n",
    "\n",
    "# Lakukan iterasi selama orde deret lebih kecil atau sama dengan 4\n",
    "while(2*n <= 4):\n",
    "    # Nilai y ditambah sesuai rumus deret Taylor cos(x) pada n tertentu dan masukkan x = pi/2\n",
    "    y = y + ((-1)**n*x**(2*n))/(np.math.factorial(2*n))\n",
    "    # Tambahkan pengiterasi n untuk melanjutkan proses loop\n",
    "    n += 1\n",
    "\n",
    "# Masukkan nilai y akhir iterasi ke dalam variabel taylorCos, lalu keluarkan hasilnya\n",
    "taylorCos = y\n",
    "print(f\"Harga aproksimasi deret Taylor untuk cos(pi/2) = {taylorCos}\")\n",
    "\n",
    "# Hitung hasil perkalian dari aproksimasi sin(pi/2) dan cos(pi/2), lalu keluarkan hasilnya\n",
    "aproksimasi = taylorSin*taylorCos\n",
    "print(f\"Harga aproksimasi sin(pi/2).cos(pi/2) = {aproksimasi}\")\n",
    "\n",
    "# Hitung true error dengan membandingkan hasil perkalian aproksimasi dengan true value, keluarkan hasilnya\n",
    "trueError = np.abs(np.sin(x)*np.cos(x) - aproksimasi)\n",
    "print(f\"Error = {trueError}\")"
   ]
  },
  {
   "cell_type": "code",
   "execution_count": 7,
   "metadata": {},
   "outputs": [
    {
     "name": "stdout",
     "output_type": "stream",
     "text": [
      "Harga aproksimasi sin(pi/2).cos(pi/2) = -1.0130600632300881\n",
      "Error = 1.0130600632300881\n"
     ]
    }
   ],
   "source": [
    "# Menghitung langsung dari deret Taylor sin(x).cos(x)\n",
    "\n",
    "# Inisialisasi nilai x yang akan disubstitusi, dan inisialisasi y = 0\n",
    "x = np.pi/2\n",
    "y = 0\n",
    "\n",
    "# Inisialisasi pengiterasi suku deret ke-n mulai dari 0\n",
    "n = 0\n",
    "\n",
    "# Lakukan iterasi selama orde deret lebih kecil atau sama dengan 4\n",
    "while(2*n+1 <= 4):\n",
    "    # Nilai y ditambah sesuai rumus deret Taylor sin(x).cos(x) pada n tertentu dan masukkan x = pi/2\n",
    "    y = y + ((-1)**n*4**n*x**(2*n+1))/(np.math.factorial(2*n+1))\n",
    "    # Tambahkan pengiterasi n untuk melanjutkan proses loop\n",
    "    n += 1\n",
    "\n",
    "# Hitung hasil aproksimasi sin(pi/2).cos(pi/2), lalu keluarkan hasilnya\n",
    "aproksimasi = y\n",
    "print(f\"Harga aproksimasi sin(pi/2).cos(pi/2) = {aproksimasi}\")\n",
    "\n",
    "# Hitung true error dengan membandingkan hasil perkalian aproksimasi dengan true value, lalu keluarkan hasilnya\n",
    "trueError = np.abs(np.sin(x)*np.cos(x) - aproksimasi)\n",
    "print(f\"Error = {trueError}\")"
   ]
  }
 ],
 "metadata": {
  "kernelspec": {
   "display_name": "Python 3",
   "language": "python",
   "name": "python3"
  },
  "language_info": {
   "codemirror_mode": {
    "name": "ipython",
    "version": 3
   },
   "file_extension": ".py",
   "mimetype": "text/x-python",
   "name": "python",
   "nbconvert_exporter": "python",
   "pygments_lexer": "ipython3",
   "version": "3.7.6"
  },
  "orig_nbformat": 4
 },
 "nbformat": 4,
 "nbformat_minor": 2
}
