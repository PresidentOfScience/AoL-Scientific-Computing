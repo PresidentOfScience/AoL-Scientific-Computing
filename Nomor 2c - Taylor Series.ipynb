{
 "cells": [
  {
   "cell_type": "code",
   "execution_count": 1,
   "metadata": {},
   "outputs": [],
   "source": [
    "# Import library yang diperlukan\n",
    "import numpy as np"
   ]
  },
  {
   "cell_type": "code",
   "execution_count": 2,
   "metadata": {},
   "outputs": [
    {
     "name": "stdout",
     "output_type": "stream",
     "text": [
      "Harga aproksimasi deret Taylor untuk cos(pi/4) = 0.707429206709773\n",
      "True Value = 0.7071067811865476\n",
      "Truncation Error = 0.000322425523225478\n"
     ]
    }
   ],
   "source": [
    "# Inisialisasi nilai x yang akan disubstitusi, dan inisialisasi y = 0\n",
    "x = np.pi/4\n",
    "y = 0\n",
    "\n",
    "# Inisialisasi pengiterasi suku deret ke-n mulai dari 0\n",
    "n = 0\n",
    "\n",
    "# Lakukan iterasi selama orde deret lebih kecil atau sama dengan 4\n",
    "while(2*n <= 4):\n",
    "    # Nilai y ditambah sesuai rumus deret Taylor cos(x) pada n tertentu dan masukkan x = pi/4\n",
    "    y = y + ((-1)**n*x**(2*n))/(np.math.factorial(2*n))\n",
    "    # Tambahkan pengiterasi n untuk melanjutkan proses loop\n",
    "    n += 1\n",
    "\n",
    "# Keluarkan hasil aproksimasi cos(pi/4)\n",
    "print(f\"Harga aproksimasi deret Taylor untuk cos(pi/4) = {y}\")\n",
    "\n",
    "# Hitung truncation error dengan membandingkan aproksimasi dengan true value, lalu keluarkan hasilnya\n",
    "trueValue = np.cos(x)\n",
    "print(f\"True Value = {trueValue}\")\n",
    "truncationError = np.abs(np.cos(x) - y)\n",
    "print(f\"Truncation Error = {truncationError}\")"
   ]
  }
 ],
 "metadata": {
  "kernelspec": {
   "display_name": "Python 3",
   "language": "python",
   "name": "python3"
  },
  "language_info": {
   "codemirror_mode": {
    "name": "ipython",
    "version": 3
   },
   "file_extension": ".py",
   "mimetype": "text/x-python",
   "name": "python",
   "nbconvert_exporter": "python",
   "pygments_lexer": "ipython3",
   "version": "3.7.6"
  },
  "orig_nbformat": 4
 },
 "nbformat": 4,
 "nbformat_minor": 2
}
