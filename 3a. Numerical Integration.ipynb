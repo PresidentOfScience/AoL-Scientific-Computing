{
 "cells": [
  {
   "cell_type": "code",
   "execution_count": 16,
   "metadata": {},
   "outputs": [],
   "source": [
    "# Import library yang diperlukan\n",
    "import numpy as np\n",
    "\n",
    "# Deklarasikan fungsi f(x) yang akan digunakan\n",
    "def f(x):\n",
    "    return x**3 - 0.3*x**2 - 8.56*x + 8.448"
   ]
  },
  {
   "cell_type": "code",
   "execution_count": 17,
   "metadata": {},
   "outputs": [
    {
     "name": "stdout",
     "output_type": "stream",
     "text": [
      "Hasil integrasi numerik dengan Left Riemann sebesar 219.82600410076233\n",
      "Hasil integrasi numerik dengan Right Riemann sebesar 280.1520639859213\n",
      "Hasil integrasi numerik dengan Mid Riemann sebesar 248.42158035858884\n"
     ]
    }
   ],
   "source": [
    "# Riemann Integral\n",
    "\n",
    "# Inisialisasi batas atas dan batas bawah pengintegralan\n",
    "batas_bawah = 0\n",
    "batas_atas = 2*np.pi\n",
    "# Inisialisasi jumlah titik yang akan membagi luasan partisi\n",
    "grid_points = 20\n",
    "\n",
    "# Hitung lebar partisi (h)\n",
    "lebar_partisi = (batas_atas - batas_bawah)/(grid_points - 1)\n",
    "\n",
    "# Tentukan nilai absis setiap partisi\n",
    "x = np.linspace(batas_bawah, batas_atas, grid_points)\n",
    "# Tentukan nilai ordinat setiap partisi\n",
    "y = f(x)\n",
    "\n",
    "# Tentukan koordinat titik tengah setiap partisi\n",
    "x_mid = (x[:grid_points-1] + x[1:])/2\n",
    "y_mid = f(x_mid)\n",
    "\n",
    "# Hitung luas seluruh daerah dengan menggunakan ujung kiri partisi (Left Riemann)\n",
    "leftRiemann = lebar_partisi * sum(y[:grid_points-1])\n",
    "# Hitung luas seluruh daerah dengan menggunakan ujung kanan partisi (Right Riemann)\n",
    "rightRiemann = lebar_partisi * sum(y[1:])\n",
    "# Hitung luas seluruh daerah dengan menggunakan titik tengah partisi (Mid Riemann)\n",
    "midRiemann = lebar_partisi * sum(y_mid)\n",
    "\n",
    "# Keluarkan semua hasil perhitungan integral Riemann\n",
    "print(f\"Hasil integrasi numerik dengan Left Riemann sebesar {leftRiemann}\")\n",
    "print(f\"Hasil integrasi numerik dengan Right Riemann sebesar {rightRiemann}\")\n",
    "print(f\"Hasil integrasi numerik dengan Mid Riemann sebesar {midRiemann}\")"
   ]
  },
  {
   "cell_type": "code",
   "execution_count": 18,
   "metadata": {},
   "outputs": [
    {
     "name": "stdout",
     "output_type": "stream",
     "text": [
      "Hasil integrasi numerik dengan Trapezoid Rule sebesar 249.98903404334183\n"
     ]
    }
   ],
   "source": [
    "# Trapezoid Rule\n",
    "\n",
    "# Inisialisasi batas atas dan batas bawah pengintegralan\n",
    "batas_bawah = 0\n",
    "batas_atas = 2*np.pi\n",
    "# Inisialisasi jumlah titik yang akan membagi luasan partisi\n",
    "grid_points = 20\n",
    "\n",
    "# Hitung lebar partisi (h)\n",
    "lebar_partisi = (batas_atas - batas_bawah)/(grid_points - 1)\n",
    "\n",
    "# Tentukan nilai absis setiap partisi\n",
    "x = np.linspace(batas_bawah, batas_atas, grid_points)\n",
    "# Tentukan nilai ordinat setiap partisi\n",
    "y = f(x)\n",
    "\n",
    "# Hitung luas seluruh daerah dengan menggunakan aturan Trapezoid\n",
    "trapezoid = lebar_partisi * (y[0] + y[grid_points-1] + 2*sum(y[1:grid_points-1]))/2\n",
    "\n",
    "# Keluarkan hasil perhitungan Trapezoid Rule\n",
    "print(f\"Hasil integrasi numerik dengan Trapezoid Rule sebesar {trapezoid}\")"
   ]
  },
  {
   "cell_type": "code",
   "execution_count": 19,
   "metadata": {},
   "outputs": [
    {
     "name": "stdout",
     "output_type": "stream",
     "text": [
      "Hasil integrasi numerik dengan Simpson 1/3 Rule sebesar 229.83706760693207\n"
     ]
    }
   ],
   "source": [
    "# Simpson 1/3 Rule\n",
    "\n",
    "# Inisialisasi batas atas dan batas bawah pengintegralan\n",
    "batas_bawah = 0\n",
    "batas_atas = 2*np.pi\n",
    "# Inisialisasi jumlah titik yang akan membagi luasan partisi\n",
    "grid_points = 20\n",
    "\n",
    "# Hitung lebar partisi (h)\n",
    "h = (batas_atas - batas_bawah)/(grid_points - 1)\n",
    "\n",
    "# Tentukan nilai absis setiap partisi\n",
    "x = np.linspace(batas_bawah, batas_atas, grid_points)\n",
    "# Tentukan nilai ordinat setiap partisi\n",
    "y = f(x)\n",
    "\n",
    "# Hitung luas seluruh daerah dengan menggunakan aturan Simpson 1/3\n",
    "simpson = (h/3)*(y[0] + 2*sum(y[2:grid_points-1:2]) + 4*sum(y[1:grid_points-1:2]) + y[grid_points-1])\n",
    "\n",
    "# Keluarkan hasil perhitungan Simpson 1/3 Rule\n",
    "print(f\"Hasil integrasi numerik dengan Simpson 1/3 Rule sebesar {simpson}\")"
   ]
  },
  {
   "cell_type": "code",
   "execution_count": 20,
   "metadata": {},
   "outputs": [
    {
     "name": "stdout",
     "output_type": "stream",
     "text": [
      "Hasil integrasi numerik dengan Simpson 3/8 Rule sebesar 234.64102072007026\n"
     ]
    }
   ],
   "source": [
    "# Simpson 3/8 Rule\n",
    "\n",
    "# Inisialisasi batas atas dan batas bawah pengintegralan\n",
    "batas_bawah = 0\n",
    "batas_atas = 2*np.pi\n",
    "# Inisialisasi jumlah titik yang akan membagi luasan partisi\n",
    "grid_points = 20\n",
    "\n",
    "# Hitung lebar partisi (h)\n",
    "h = (batas_atas - batas_bawah)/(grid_points - 1)\n",
    "\n",
    "# Tentukan nilai absis setiap partisi\n",
    "x = np.linspace(batas_bawah, batas_atas, grid_points)\n",
    "# Tentukan nilai ordinat setiap partisi\n",
    "y = f(x)\n",
    "\n",
    "# Hitung luas seluruh daerah dengan menggunakan aturan Simpson 3/8\n",
    "simpson = (3*h/8)*(y[0] + 3*sum(y[1:grid_points-1:3]) + 3*sum(y[2:grid_points-1:3]) + 2*sum(y[3:grid_points-1:3]) + y[grid_points-1])\n",
    "\n",
    "# Keluarkan hasil perhitungan Simpson 3/8 Rule\n",
    "print(f\"Hasil integrasi numerik dengan Simpson 3/8 Rule sebesar {simpson}\")"
   ]
  }
 ],
 "metadata": {
  "kernelspec": {
   "display_name": "Python 3",
   "language": "python",
   "name": "python3"
  },
  "language_info": {
   "codemirror_mode": {
    "name": "ipython",
    "version": 3
   },
   "file_extension": ".py",
   "mimetype": "text/x-python",
   "name": "python",
   "nbconvert_exporter": "python",
   "pygments_lexer": "ipython3",
   "version": "3.7.6"
  },
  "orig_nbformat": 4
 },
 "nbformat": 4,
 "nbformat_minor": 2
}
