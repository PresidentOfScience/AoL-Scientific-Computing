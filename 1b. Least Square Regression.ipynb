{
 "cells": [
  {
   "cell_type": "code",
   "execution_count": 7,
   "metadata": {},
   "outputs": [],
   "source": [
    "# Import library yang diperlukan\n",
    "import numpy as np\n",
    "import matplotlib.pyplot as plt\n",
    "\n",
    "# Masukkan data points tahun dan temperatur yang tertera pada soal\n",
    "year = [1981, 1983, 1985, 1987, 1989, 1991, 1993, 1995, 1997, 1999]\n",
    "temperature = [14.1999, 14.2411, 14.0342, 14.2696, 14.197, 14.3055, 14.1853, 14.3577, 14.4187, 14.3438]"
   ]
  },
  {
   "cell_type": "code",
   "execution_count": 8,
   "metadata": {},
   "outputs": [
    {
     "name": "stdout",
     "output_type": "stream",
     "text": [
      "Persamaan regresi linear : y = -9.934677576074332 + 0.012155757575916748 x \n",
      "\n",
      " Year  | Temperature\n",
      "---------------------\n",
      " 1982  |   14.158\n",
      " 1984  |   14.1823\n",
      " 1986  |   14.2067\n",
      " 1988  |   14.231\n",
      " 1990  |   14.2553\n",
      " 1992  |   14.2796\n",
      " 1994  |   14.3039\n",
      " 1996  |   14.3282\n",
      " 1998  |   14.3525\n",
      "---------------------\n"
     ]
    }
   ],
   "source": [
    "# Least Square Regression\n",
    "\n",
    "# Data points yang diberikan diubah ke dalam bentuk array\n",
    "x = np.array(year)\n",
    "y = np.array(temperature)\n",
    "\n",
    "# Tentukan jumlah data yang diberikan (n)\n",
    "n = len(temperature)\n",
    "\n",
    "# Hitung jumlah data x, data y, perkalian x dan y, serta x kuadrat\n",
    "sigma_x = sum(x)\n",
    "sigma_y = sum(y)\n",
    "sigma_x2 = sum(x[:]**2)\n",
    "sigma_xy = sum(x[:]*y[:])\n",
    "\n",
    "# Hitung harga a1 (gradien/kemiringan garis regresi)\n",
    "a1 = (n*sigma_xy - sigma_x*sigma_y)/(n*sigma_x2 - (sigma_x**2))\n",
    "\n",
    "# Hitung rata-rata data x dan data y\n",
    "x_mean = sigma_x/n\n",
    "y_mean = sigma_y/n\n",
    "\n",
    "# Hitung harga a0 (y-intercept atau titik potong terhadap sumbu-y)\n",
    "a0 = y_mean - a1*x_mean\n",
    "\n",
    "# Keluarkan persamaan garis regresi linear\n",
    "print(f\"Persamaan regresi linear : y = {a0} + {a1} x \\n\")\n",
    "\n",
    "# Keluarkan data hasil regresi pada tahun genap dengan menggunakan persamaan regresi linear yang diperoleh\n",
    "print(\" Year  | Temperature\")\n",
    "print(\"---------------------\")\n",
    "for i in range(n-1):\n",
    "    print(f\" {year[i]+1}  |   {round(a0 + a1*(year[i]+1), 4)}\")\n",
    "print(\"---------------------\")"
   ]
  }
 ],
 "metadata": {
  "interpreter": {
   "hash": "2d21f6ddfba66f5c57e78a1dace097aa35bba2ebc5218d3c9da14608b6a937b3"
  },
  "kernelspec": {
   "display_name": "Python 3.7.6 64-bit",
   "name": "python3"
  },
  "language_info": {
   "codemirror_mode": {
    "name": "ipython",
    "version": 3
   },
   "file_extension": ".py",
   "mimetype": "text/x-python",
   "name": "python",
   "nbconvert_exporter": "python",
   "pygments_lexer": "ipython3",
   "version": "3.7.6"
  },
  "orig_nbformat": 4
 },
 "nbformat": 4,
 "nbformat_minor": 2
}
